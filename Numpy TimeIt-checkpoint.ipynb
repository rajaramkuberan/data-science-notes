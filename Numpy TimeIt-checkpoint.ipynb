{
 "cells": [
  {
   "cell_type": "markdown",
   "metadata": {},
   "source": [
    "## finding the execution preocessing time methods"
   ]
  },
  {
   "cell_type": "code",
   "execution_count": 2,
   "metadata": {
    "collapsed": true
   },
   "outputs": [],
   "source": [
    "import numpy as np"
   ]
  },
  {
   "cell_type": "code",
   "execution_count": 4,
   "metadata": {
    "collapsed": true
   },
   "outputs": [],
   "source": [
    "a = np.arange(10000)\n",
    "b = np.arange(10000)"
   ]
  },
  {
   "cell_type": "code",
   "execution_count": 5,
   "metadata": {},
   "outputs": [
    {
     "name": "stdout",
     "output_type": "stream",
     "text": [
      "10.3 µs ± 866 ns per loop (mean ± std. dev. of 7 runs, 100000 loops each)\n"
     ]
    }
   ],
   "source": [
    "%timeit a + b  #computation time to calculate a+b"
   ]
  },
  {
   "cell_type": "code",
   "execution_count": 6,
   "metadata": {},
   "outputs": [
    {
     "name": "stdout",
     "output_type": "stream",
     "text": [
      "35.8 µs ± 3.75 µs per loop (mean ± std. dev. of 7 runs, 10000 loops each)\n"
     ]
    }
   ],
   "source": [
    "%timeit np.cumsum(a)"
   ]
  },
  {
   "cell_type": "code",
   "execution_count": 7,
   "metadata": {
    "collapsed": true
   },
   "outputs": [],
   "source": [
    "l = range(10000)"
   ]
  },
  {
   "cell_type": "code",
   "execution_count": 8,
   "metadata": {},
   "outputs": [
    {
     "name": "stdout",
     "output_type": "stream",
     "text": [
      "254 µs ± 5.39 µs per loop (mean ± std. dev. of 7 runs, 1000 loops each)\n"
     ]
    }
   ],
   "source": [
    "%timeit sum(l)"
   ]
  },
  {
   "cell_type": "code",
   "execution_count": 9,
   "metadata": {},
   "outputs": [
    {
     "name": "stdout",
     "output_type": "stream",
     "text": [
      "34 µs ± 221 ns per loop (mean ± std. dev. of 7 runs, 10000 loops each)\n"
     ]
    }
   ],
   "source": [
    "%timeit np.cumsum(a)"
   ]
  },
  {
   "cell_type": "code",
   "execution_count": 10,
   "metadata": {
    "collapsed": true
   },
   "outputs": [],
   "source": [
    "data = np.random.randint(1,10,size=(10,10))"
   ]
  },
  {
   "cell_type": "code",
   "execution_count": 11,
   "metadata": {},
   "outputs": [
    {
     "data": {
      "text/plain": [
       "array([[7, 3, 4, 7, 5, 9, 9, 6, 1, 3],\n",
       "       [9, 7, 2, 7, 8, 3, 4, 1, 9, 7],\n",
       "       [4, 8, 5, 6, 6, 1, 2, 2, 7, 2],\n",
       "       [5, 1, 5, 7, 7, 1, 9, 4, 7, 1],\n",
       "       [9, 3, 5, 7, 4, 1, 4, 2, 4, 7],\n",
       "       [1, 4, 8, 1, 9, 1, 1, 9, 8, 3],\n",
       "       [3, 5, 7, 6, 3, 1, 6, 6, 9, 5],\n",
       "       [8, 7, 3, 2, 5, 9, 4, 2, 6, 3],\n",
       "       [9, 5, 6, 8, 6, 3, 5, 2, 6, 9],\n",
       "       [6, 6, 2, 8, 7, 2, 9, 9, 2, 7]])"
      ]
     },
     "execution_count": 11,
     "metadata": {},
     "output_type": "execute_result"
    }
   ],
   "source": [
    "data"
   ]
  },
  {
   "cell_type": "code",
   "execution_count": 12,
   "metadata": {},
   "outputs": [
    {
     "data": {
      "text/plain": [
       "array([61, 49, 47, 59, 60, 31, 53, 43, 59, 47])"
      ]
     },
     "execution_count": 12,
     "metadata": {},
     "output_type": "execute_result"
    }
   ],
   "source": [
    "np.sum(data,axis=0)"
   ]
  },
  {
   "cell_type": "code",
   "execution_count": 13,
   "metadata": {},
   "outputs": [
    {
     "data": {
      "text/plain": [
       "array([ 5.4,  5.7,  4.3,  4.7,  4.6,  4.5,  5.1,  4.9,  5.9,  5.8])"
      ]
     },
     "execution_count": 13,
     "metadata": {},
     "output_type": "execute_result"
    }
   ],
   "source": [
    "np.mean(data,axis=1)"
   ]
  },
  {
   "cell_type": "code",
   "execution_count": 14,
   "metadata": {},
   "outputs": [
    {
     "data": {
      "text/plain": [
       "array([ 2.53771551,  2.79463772,  2.32594067,  2.75862284,  2.33238076,\n",
       "        3.41320963,  2.16564078,  2.38537209,  2.21133444,  2.67581763])"
      ]
     },
     "execution_count": 14,
     "metadata": {},
     "output_type": "execute_result"
    }
   ],
   "source": [
    "np.std(data,axis=1)"
   ]
  },
  {
   "cell_type": "code",
   "execution_count": 15,
   "metadata": {},
   "outputs": [
    {
     "data": {
      "text/plain": [
       "array([[ 0.75390225, -0.9899925 , -0.65364362,  0.75390225,  0.28366219,\n",
       "        -0.91113026, -0.91113026,  0.96017029,  0.54030231, -0.9899925 ],\n",
       "       [-0.91113026,  0.75390225, -0.41614684,  0.75390225, -0.14550003,\n",
       "        -0.9899925 , -0.65364362,  0.54030231, -0.91113026,  0.75390225],\n",
       "       [-0.65364362, -0.14550003,  0.28366219,  0.96017029,  0.96017029,\n",
       "         0.54030231, -0.41614684, -0.41614684,  0.75390225, -0.41614684],\n",
       "       [ 0.28366219,  0.54030231,  0.28366219,  0.75390225,  0.75390225,\n",
       "         0.54030231, -0.91113026, -0.65364362,  0.75390225,  0.54030231],\n",
       "       [-0.91113026, -0.9899925 ,  0.28366219,  0.75390225, -0.65364362,\n",
       "         0.54030231, -0.65364362, -0.41614684, -0.65364362,  0.75390225],\n",
       "       [ 0.54030231, -0.65364362, -0.14550003,  0.54030231, -0.91113026,\n",
       "         0.54030231,  0.54030231, -0.91113026, -0.14550003, -0.9899925 ],\n",
       "       [-0.9899925 ,  0.28366219,  0.75390225,  0.96017029, -0.9899925 ,\n",
       "         0.54030231,  0.96017029,  0.96017029, -0.91113026,  0.28366219],\n",
       "       [-0.14550003,  0.75390225, -0.9899925 , -0.41614684,  0.28366219,\n",
       "        -0.91113026, -0.65364362, -0.41614684,  0.96017029, -0.9899925 ],\n",
       "       [-0.91113026,  0.28366219,  0.96017029, -0.14550003,  0.96017029,\n",
       "        -0.9899925 ,  0.28366219, -0.41614684,  0.96017029, -0.91113026],\n",
       "       [ 0.96017029,  0.96017029, -0.41614684, -0.14550003,  0.75390225,\n",
       "        -0.41614684, -0.91113026, -0.91113026, -0.41614684,  0.75390225]])"
      ]
     },
     "execution_count": 15,
     "metadata": {},
     "output_type": "execute_result"
    }
   ],
   "source": [
    "np.cos(data)"
   ]
  },
  {
   "cell_type": "code",
   "execution_count": 16,
   "metadata": {},
   "outputs": [
    {
     "data": {
      "text/plain": [
       "array([9, 9, 8, 9, 9, 9, 9, 9, 9, 9])"
      ]
     },
     "execution_count": 16,
     "metadata": {},
     "output_type": "execute_result"
    }
   ],
   "source": [
    "np.max(data,axis=1)"
   ]
  },
  {
   "cell_type": "code",
   "execution_count": 17,
   "metadata": {},
   "outputs": [
    {
     "data": {
      "text/plain": [
       "array([5, 0, 1, 6, 0, 4, 8, 5, 0, 6], dtype=int64)"
      ]
     },
     "execution_count": 17,
     "metadata": {},
     "output_type": "execute_result"
    }
   ],
   "source": [
    "np.argmax(data,axis=1)"
   ]
  },
  {
   "cell_type": "code",
   "execution_count": 19,
   "metadata": {},
   "outputs": [
    {
     "data": {
      "text/plain": [
       "array([5, 0, 1, 6, 0, 4, 8, 5, 0, 6], dtype=int64)"
      ]
     },
     "execution_count": 19,
     "metadata": {},
     "output_type": "execute_result"
    }
   ],
   "source": [
    "np.argmax(data,axis=1)"
   ]
  },
  {
   "cell_type": "code",
   "execution_count": 20,
   "metadata": {},
   "outputs": [
    {
     "data": {
      "text/plain": [
       "array([[7, 3, 4, 7, 5, 9, 9, 6, 1, 3],\n",
       "       [9, 7, 2, 7, 8, 3, 4, 1, 9, 7],\n",
       "       [4, 8, 5, 6, 6, 1, 2, 2, 7, 2],\n",
       "       [5, 1, 5, 7, 7, 1, 9, 4, 7, 1],\n",
       "       [9, 3, 5, 7, 4, 1, 4, 2, 4, 7],\n",
       "       [1, 4, 8, 1, 9, 1, 1, 9, 8, 3],\n",
       "       [3, 5, 7, 6, 3, 1, 6, 6, 9, 5],\n",
       "       [8, 7, 3, 2, 5, 9, 4, 2, 6, 3],\n",
       "       [9, 5, 6, 8, 6, 3, 5, 2, 6, 9],\n",
       "       [6, 6, 2, 8, 7, 2, 9, 9, 2, 7]])"
      ]
     },
     "execution_count": 20,
     "metadata": {},
     "output_type": "execute_result"
    }
   ],
   "source": [
    "data"
   ]
  },
  {
   "cell_type": "code",
   "execution_count": 21,
   "metadata": {},
   "outputs": [
    {
     "data": {
      "text/plain": [
       "array([[8, 1, 9, 2, 4, 7, 0, 3, 5, 6],\n",
       "       [7, 2, 5, 6, 1, 3, 9, 4, 0, 8],\n",
       "       [5, 6, 7, 9, 0, 2, 3, 4, 8, 1],\n",
       "       [1, 5, 9, 7, 0, 2, 3, 4, 8, 6],\n",
       "       [5, 7, 1, 4, 6, 8, 2, 3, 9, 0],\n",
       "       [0, 3, 5, 6, 9, 1, 2, 8, 4, 7],\n",
       "       [5, 0, 4, 1, 9, 3, 6, 7, 2, 8],\n",
       "       [3, 7, 2, 9, 6, 4, 8, 1, 0, 5],\n",
       "       [7, 5, 1, 6, 2, 4, 8, 3, 0, 9],\n",
       "       [2, 5, 8, 0, 1, 4, 9, 3, 6, 7]], dtype=int64)"
      ]
     },
     "execution_count": 21,
     "metadata": {},
     "output_type": "execute_result"
    }
   ],
   "source": [
    "np.argsort(data,axis=1)"
   ]
  },
  {
   "cell_type": "code",
   "execution_count": 23,
   "metadata": {},
   "outputs": [
    {
     "data": {
      "text/plain": [
       "array([[0, 7],\n",
       "       [2, 3],\n",
       "       [2, 4],\n",
       "       [6, 3],\n",
       "       [6, 6],\n",
       "       [6, 7],\n",
       "       [7, 8],\n",
       "       [8, 2],\n",
       "       [8, 4],\n",
       "       [8, 8],\n",
       "       [9, 0],\n",
       "       [9, 1]], dtype=int64)"
      ]
     },
     "execution_count": 23,
     "metadata": {},
     "output_type": "execute_result"
    }
   ],
   "source": [
    "np.argwhere((data > 5) & ( data < 7))"
   ]
  },
  {
   "cell_type": "code",
   "execution_count": null,
   "metadata": {
    "collapsed": true
   },
   "outputs": [],
   "source": []
  }
 ],
 "metadata": {
  "kernelspec": {
   "display_name": "Python 3",
   "language": "python",
   "name": "python3"
  },
  "language_info": {
   "codemirror_mode": {
    "name": "ipython",
    "version": 3
   },
   "file_extension": ".py",
   "mimetype": "text/x-python",
   "name": "python",
   "nbconvert_exporter": "python",
   "pygments_lexer": "ipython3",
   "version": "3.6.3"
  }
 },
 "nbformat": 4,
 "nbformat_minor": 2
}
