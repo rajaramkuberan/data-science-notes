{
 "cells": [
  {
   "cell_type": "markdown",
   "metadata": {},
   "source": [
    "## Agenda\n",
    "* Used extensively in finacial data analysis space\n",
    "* Generate fixed frequency dates & time spans\n",
    "* Time series to a particular frequency\n",
    "* Non-standard time series"
   ]
  },
  {
   "cell_type": "code",
   "execution_count": 2,
   "metadata": {
    "collapsed": true
   },
   "outputs": [],
   "source": [
    "import pandas as pd"
   ]
  },
  {
   "cell_type": "markdown",
   "metadata": {},
   "source": [
    "#### Create a range of dates"
   ]
  },
  {
   "cell_type": "code",
   "execution_count": 3,
   "metadata": {
    "collapsed": true
   },
   "outputs": [],
   "source": [
    "rng = pd.date_range('1/1/2011', periods=72, freq='H')"
   ]
  },
  {
   "cell_type": "code",
   "execution_count": 5,
   "metadata": {},
   "outputs": [
    {
     "data": {
      "text/plain": [
       "DatetimeIndex(['2011-01-01 00:00:00', '2011-01-01 01:00:00',\n",
       "               '2011-01-01 02:00:00', '2011-01-01 03:00:00',\n",
       "               '2011-01-01 04:00:00', '2011-01-01 05:00:00',\n",
       "               '2011-01-01 06:00:00', '2011-01-01 07:00:00',\n",
       "               '2011-01-01 08:00:00', '2011-01-01 09:00:00'],\n",
       "              dtype='datetime64[ns]', freq='H')"
      ]
     },
     "execution_count": 5,
     "metadata": {},
     "output_type": "execute_result"
    }
   ],
   "source": [
    "rng[:10]"
   ]
  },
  {
   "cell_type": "code",
   "execution_count": 6,
   "metadata": {
    "collapsed": true
   },
   "outputs": [],
   "source": [
    "import numpy as np"
   ]
  },
  {
   "cell_type": "code",
   "execution_count": 17,
   "metadata": {},
   "outputs": [],
   "source": [
    "ts=pd.Series(data=np.arange(72),index=rng)"
   ]
  },
  {
   "cell_type": "code",
   "execution_count": 18,
   "metadata": {},
   "outputs": [
    {
     "data": {
      "text/plain": [
       "2011-01-01 00:00:00     0\n",
       "2011-01-01 01:00:00     1\n",
       "2011-01-01 02:00:00     2\n",
       "2011-01-01 03:00:00     3\n",
       "2011-01-01 04:00:00     4\n",
       "2011-01-01 05:00:00     5\n",
       "2011-01-01 06:00:00     6\n",
       "2011-01-01 07:00:00     7\n",
       "2011-01-01 08:00:00     8\n",
       "2011-01-01 09:00:00     9\n",
       "2011-01-01 10:00:00    10\n",
       "2011-01-01 11:00:00    11\n",
       "2011-01-01 12:00:00    12\n",
       "2011-01-01 13:00:00    13\n",
       "2011-01-01 14:00:00    14\n",
       "2011-01-01 15:00:00    15\n",
       "2011-01-01 16:00:00    16\n",
       "2011-01-01 17:00:00    17\n",
       "2011-01-01 18:00:00    18\n",
       "2011-01-01 19:00:00    19\n",
       "2011-01-01 20:00:00    20\n",
       "2011-01-01 21:00:00    21\n",
       "2011-01-01 22:00:00    22\n",
       "2011-01-01 23:00:00    23\n",
       "2011-01-02 00:00:00    24\n",
       "2011-01-02 01:00:00    25\n",
       "2011-01-02 02:00:00    26\n",
       "2011-01-02 03:00:00    27\n",
       "2011-01-02 04:00:00    28\n",
       "2011-01-02 05:00:00    29\n",
       "                       ..\n",
       "2011-01-02 18:00:00    42\n",
       "2011-01-02 19:00:00    43\n",
       "2011-01-02 20:00:00    44\n",
       "2011-01-02 21:00:00    45\n",
       "2011-01-02 22:00:00    46\n",
       "2011-01-02 23:00:00    47\n",
       "2011-01-03 00:00:00    48\n",
       "2011-01-03 01:00:00    49\n",
       "2011-01-03 02:00:00    50\n",
       "2011-01-03 03:00:00    51\n",
       "2011-01-03 04:00:00    52\n",
       "2011-01-03 05:00:00    53\n",
       "2011-01-03 06:00:00    54\n",
       "2011-01-03 07:00:00    55\n",
       "2011-01-03 08:00:00    56\n",
       "2011-01-03 09:00:00    57\n",
       "2011-01-03 10:00:00    58\n",
       "2011-01-03 11:00:00    59\n",
       "2011-01-03 12:00:00    60\n",
       "2011-01-03 13:00:00    61\n",
       "2011-01-03 14:00:00    62\n",
       "2011-01-03 15:00:00    63\n",
       "2011-01-03 16:00:00    64\n",
       "2011-01-03 17:00:00    65\n",
       "2011-01-03 18:00:00    66\n",
       "2011-01-03 19:00:00    67\n",
       "2011-01-03 20:00:00    68\n",
       "2011-01-03 21:00:00    69\n",
       "2011-01-03 22:00:00    70\n",
       "2011-01-03 23:00:00    71\n",
       "Freq: H, Length: 72, dtype: int32"
      ]
     },
     "execution_count": 18,
     "metadata": {},
     "output_type": "execute_result"
    }
   ],
   "source": [
    "ts"
   ]
  },
  {
   "cell_type": "markdown",
   "metadata": {},
   "source": [
    "#### asfreq\n",
    "* DataFrame.asfreq(freq, method=None, how=None, normalize=False, fill_value=None)\n",
    "* Convert TimeSeries to specified frequency.\n",
    "* Optionally provide filling method to pad/backfill missing values"
   ]
  },
  {
   "cell_type": "markdown",
   "metadata": {},
   "source": [
    "#### Parameters\n",
    "* freq : DateOffset object, or string\n",
    "\n",
    "* method : {‘backfill’/’bfill’, ‘pad’/’ffill’}, default None\n",
    "\n",
    "* Method to use for filling holes in reindexed Series (note this does not fill NaNs that already were present):\n",
    "\n",
    "        * ‘pad’ / ‘ffill’: propagate last valid observation forward to next valid\n",
    "        * ‘backfill’ / ‘bfill’: use NEXT valid observation to fill"
   ]
  },
  {
   "cell_type": "code",
   "execution_count": 19,
   "metadata": {},
   "outputs": [
    {
     "data": {
      "text/plain": [
       "2011-01-01 00:00:00     0\n",
       "2011-01-01 00:45:00     0\n",
       "2011-01-01 01:30:00     1\n",
       "2011-01-01 02:15:00     2\n",
       "2011-01-01 03:00:00     3\n",
       "2011-01-01 03:45:00     3\n",
       "2011-01-01 04:30:00     4\n",
       "2011-01-01 05:15:00     5\n",
       "2011-01-01 06:00:00     6\n",
       "2011-01-01 06:45:00     6\n",
       "2011-01-01 07:30:00     7\n",
       "2011-01-01 08:15:00     8\n",
       "2011-01-01 09:00:00     9\n",
       "2011-01-01 09:45:00     9\n",
       "2011-01-01 10:30:00    10\n",
       "2011-01-01 11:15:00    11\n",
       "2011-01-01 12:00:00    12\n",
       "2011-01-01 12:45:00    12\n",
       "2011-01-01 13:30:00    13\n",
       "2011-01-01 14:15:00    14\n",
       "2011-01-01 15:00:00    15\n",
       "2011-01-01 15:45:00    15\n",
       "2011-01-01 16:30:00    16\n",
       "2011-01-01 17:15:00    17\n",
       "2011-01-01 18:00:00    18\n",
       "2011-01-01 18:45:00    18\n",
       "2011-01-01 19:30:00    19\n",
       "2011-01-01 20:15:00    20\n",
       "2011-01-01 21:00:00    21\n",
       "2011-01-01 21:45:00    21\n",
       "                       ..\n",
       "2011-01-03 00:45:00    48\n",
       "2011-01-03 01:30:00    49\n",
       "2011-01-03 02:15:00    50\n",
       "2011-01-03 03:00:00    51\n",
       "2011-01-03 03:45:00    51\n",
       "2011-01-03 04:30:00    52\n",
       "2011-01-03 05:15:00    53\n",
       "2011-01-03 06:00:00    54\n",
       "2011-01-03 06:45:00    54\n",
       "2011-01-03 07:30:00    55\n",
       "2011-01-03 08:15:00    56\n",
       "2011-01-03 09:00:00    57\n",
       "2011-01-03 09:45:00    57\n",
       "2011-01-03 10:30:00    58\n",
       "2011-01-03 11:15:00    59\n",
       "2011-01-03 12:00:00    60\n",
       "2011-01-03 12:45:00    60\n",
       "2011-01-03 13:30:00    61\n",
       "2011-01-03 14:15:00    62\n",
       "2011-01-03 15:00:00    63\n",
       "2011-01-03 15:45:00    63\n",
       "2011-01-03 16:30:00    64\n",
       "2011-01-03 17:15:00    65\n",
       "2011-01-03 18:00:00    66\n",
       "2011-01-03 18:45:00    66\n",
       "2011-01-03 19:30:00    67\n",
       "2011-01-03 20:15:00    68\n",
       "2011-01-03 21:00:00    69\n",
       "2011-01-03 21:45:00    69\n",
       "2011-01-03 22:30:00    70\n",
       "Freq: 45T, Length: 95, dtype: int32"
      ]
     },
     "execution_count": 19,
     "metadata": {},
     "output_type": "execute_result"
    }
   ],
   "source": [
    "ts.asfreq('45min',method='pad')"
   ]
  },
  {
   "cell_type": "code",
   "execution_count": null,
   "metadata": {
    "collapsed": true
   },
   "outputs": [],
   "source": []
  }
 ],
 "metadata": {
  "kernelspec": {
   "display_name": "Python 3",
   "language": "python",
   "name": "python3"
  },
  "language_info": {
   "codemirror_mode": {
    "name": "ipython",
    "version": 3
   },
   "file_extension": ".py",
   "mimetype": "text/x-python",
   "name": "python",
   "nbconvert_exporter": "python",
   "pygments_lexer": "ipython3",
   "version": "3.6.3"
  }
 },
 "nbformat": 4,
 "nbformat_minor": 2
}
