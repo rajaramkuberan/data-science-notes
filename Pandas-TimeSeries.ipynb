{
 "cells": [
  {
   "cell_type": "markdown",
   "metadata": {},
   "source": [
    "## Agenda\n",
    "* Used extensively in finacial data analysis space\n",
    "* Generate fixed frequency dates & time spans\n",
    "* Time series to a particular frequency\n",
    "* Non-standard time series"
   ]
  },
  {
   "cell_type": "code",
   "execution_count": 2,
   "metadata": {
    "collapsed": true
   },
   "outputs": [],
   "source": [
    "import pandas as pd"
   ]
  },
  {
   "cell_type": "markdown",
   "metadata": {},
   "source": [
    "#### Create a range of dates\n",
    "* In below example we had created 72 periods from 1/1/2011 on frequency = hourly basis"
   ]
  },
  {
   "cell_type": "code",
   "execution_count": 17,
   "metadata": {
    "collapsed": true
   },
   "outputs": [],
   "source": [
    "rng = pd.date_range('1/1/2011', periods=72, freq='H')"
   ]
  },
  {
   "cell_type": "code",
   "execution_count": 18,
   "metadata": {},
   "outputs": [
    {
     "data": {
      "text/plain": [
       "DatetimeIndex(['2011-01-01 00:00:00', '2011-01-01 01:00:00',\n",
       "               '2011-01-01 02:00:00', '2011-01-01 03:00:00',\n",
       "               '2011-01-01 04:00:00', '2011-01-01 05:00:00',\n",
       "               '2011-01-01 06:00:00', '2011-01-01 07:00:00',\n",
       "               '2011-01-01 08:00:00', '2011-01-01 09:00:00'],\n",
       "              dtype='datetime64[ns]', freq='H')"
      ]
     },
     "execution_count": 18,
     "metadata": {},
     "output_type": "execute_result"
    }
   ],
   "source": [
    "rng[:10]"
   ]
  },
  {
   "cell_type": "code",
   "execution_count": 19,
   "metadata": {
    "collapsed": true
   },
   "outputs": [],
   "source": [
    "import numpy as np"
   ]
  },
  {
   "cell_type": "code",
   "execution_count": 20,
   "metadata": {
    "collapsed": true
   },
   "outputs": [],
   "source": [
    "ts=pd.Series(data=np.arange(72),index=rng)"
   ]
  },
  {
   "cell_type": "code",
   "execution_count": 21,
   "metadata": {},
   "outputs": [
    {
     "data": {
      "text/plain": [
       "2011-01-01 00:00:00     0\n",
       "2011-01-01 01:00:00     1\n",
       "2011-01-01 02:00:00     2\n",
       "2011-01-01 03:00:00     3\n",
       "2011-01-01 04:00:00     4\n",
       "2011-01-01 05:00:00     5\n",
       "2011-01-01 06:00:00     6\n",
       "2011-01-01 07:00:00     7\n",
       "2011-01-01 08:00:00     8\n",
       "2011-01-01 09:00:00     9\n",
       "2011-01-01 10:00:00    10\n",
       "2011-01-01 11:00:00    11\n",
       "2011-01-01 12:00:00    12\n",
       "2011-01-01 13:00:00    13\n",
       "2011-01-01 14:00:00    14\n",
       "2011-01-01 15:00:00    15\n",
       "2011-01-01 16:00:00    16\n",
       "2011-01-01 17:00:00    17\n",
       "2011-01-01 18:00:00    18\n",
       "2011-01-01 19:00:00    19\n",
       "2011-01-01 20:00:00    20\n",
       "2011-01-01 21:00:00    21\n",
       "2011-01-01 22:00:00    22\n",
       "2011-01-01 23:00:00    23\n",
       "2011-01-02 00:00:00    24\n",
       "2011-01-02 01:00:00    25\n",
       "2011-01-02 02:00:00    26\n",
       "2011-01-02 03:00:00    27\n",
       "2011-01-02 04:00:00    28\n",
       "2011-01-02 05:00:00    29\n",
       "                       ..\n",
       "2011-01-02 18:00:00    42\n",
       "2011-01-02 19:00:00    43\n",
       "2011-01-02 20:00:00    44\n",
       "2011-01-02 21:00:00    45\n",
       "2011-01-02 22:00:00    46\n",
       "2011-01-02 23:00:00    47\n",
       "2011-01-03 00:00:00    48\n",
       "2011-01-03 01:00:00    49\n",
       "2011-01-03 02:00:00    50\n",
       "2011-01-03 03:00:00    51\n",
       "2011-01-03 04:00:00    52\n",
       "2011-01-03 05:00:00    53\n",
       "2011-01-03 06:00:00    54\n",
       "2011-01-03 07:00:00    55\n",
       "2011-01-03 08:00:00    56\n",
       "2011-01-03 09:00:00    57\n",
       "2011-01-03 10:00:00    58\n",
       "2011-01-03 11:00:00    59\n",
       "2011-01-03 12:00:00    60\n",
       "2011-01-03 13:00:00    61\n",
       "2011-01-03 14:00:00    62\n",
       "2011-01-03 15:00:00    63\n",
       "2011-01-03 16:00:00    64\n",
       "2011-01-03 17:00:00    65\n",
       "2011-01-03 18:00:00    66\n",
       "2011-01-03 19:00:00    67\n",
       "2011-01-03 20:00:00    68\n",
       "2011-01-03 21:00:00    69\n",
       "2011-01-03 22:00:00    70\n",
       "2011-01-03 23:00:00    71\n",
       "Freq: H, Length: 72, dtype: int32"
      ]
     },
     "execution_count": 21,
     "metadata": {},
     "output_type": "execute_result"
    }
   ],
   "source": [
    "ts"
   ]
  },
  {
   "cell_type": "markdown",
   "metadata": {},
   "source": [
    "#### asfreq\n",
    "* DataFrame.asfreq(freq, method=None, how=None, normalize=False, fill_value=None)\n",
    "* Convert TimeSeries to specified frequency.\n",
    "* Optionally provide filling method to pad/backfill missing values"
   ]
  },
  {
   "cell_type": "markdown",
   "metadata": {},
   "source": [
    "#### Parameters\n",
    "* freq : DateOffset object, or string\n",
    "\n",
    "* method : {‘backfill’/’bfill’, ‘pad’/’ffill’}, default None\n",
    "\n",
    "* Method to use for filling holes in reindexed Series (note this does not fill NaNs that already were present):\n",
    "\n",
    "        * ‘pad’ / ‘ffill’: propagate last valid observation forward to next valid\n",
    "        * ‘backfill’ / ‘bfill’: use NEXT valid observation to fill"
   ]
  },
  {
   "cell_type": "code",
   "execution_count": 22,
   "metadata": {},
   "outputs": [
    {
     "data": {
      "text/plain": [
       "2011-01-01 00:00:00     0\n",
       "2011-01-01 00:45:00     0\n",
       "2011-01-01 01:30:00     1\n",
       "2011-01-01 02:15:00     2\n",
       "2011-01-01 03:00:00     3\n",
       "2011-01-01 03:45:00     3\n",
       "2011-01-01 04:30:00     4\n",
       "2011-01-01 05:15:00     5\n",
       "2011-01-01 06:00:00     6\n",
       "2011-01-01 06:45:00     6\n",
       "2011-01-01 07:30:00     7\n",
       "2011-01-01 08:15:00     8\n",
       "2011-01-01 09:00:00     9\n",
       "2011-01-01 09:45:00     9\n",
       "2011-01-01 10:30:00    10\n",
       "2011-01-01 11:15:00    11\n",
       "2011-01-01 12:00:00    12\n",
       "2011-01-01 12:45:00    12\n",
       "2011-01-01 13:30:00    13\n",
       "2011-01-01 14:15:00    14\n",
       "2011-01-01 15:00:00    15\n",
       "2011-01-01 15:45:00    15\n",
       "2011-01-01 16:30:00    16\n",
       "2011-01-01 17:15:00    17\n",
       "2011-01-01 18:00:00    18\n",
       "2011-01-01 18:45:00    18\n",
       "2011-01-01 19:30:00    19\n",
       "2011-01-01 20:15:00    20\n",
       "2011-01-01 21:00:00    21\n",
       "2011-01-01 21:45:00    21\n",
       "                       ..\n",
       "2011-01-03 00:45:00    48\n",
       "2011-01-03 01:30:00    49\n",
       "2011-01-03 02:15:00    50\n",
       "2011-01-03 03:00:00    51\n",
       "2011-01-03 03:45:00    51\n",
       "2011-01-03 04:30:00    52\n",
       "2011-01-03 05:15:00    53\n",
       "2011-01-03 06:00:00    54\n",
       "2011-01-03 06:45:00    54\n",
       "2011-01-03 07:30:00    55\n",
       "2011-01-03 08:15:00    56\n",
       "2011-01-03 09:00:00    57\n",
       "2011-01-03 09:45:00    57\n",
       "2011-01-03 10:30:00    58\n",
       "2011-01-03 11:15:00    59\n",
       "2011-01-03 12:00:00    60\n",
       "2011-01-03 12:45:00    60\n",
       "2011-01-03 13:30:00    61\n",
       "2011-01-03 14:15:00    62\n",
       "2011-01-03 15:00:00    63\n",
       "2011-01-03 15:45:00    63\n",
       "2011-01-03 16:30:00    64\n",
       "2011-01-03 17:15:00    65\n",
       "2011-01-03 18:00:00    66\n",
       "2011-01-03 18:45:00    66\n",
       "2011-01-03 19:30:00    67\n",
       "2011-01-03 20:15:00    68\n",
       "2011-01-03 21:00:00    69\n",
       "2011-01-03 21:45:00    69\n",
       "2011-01-03 22:30:00    70\n",
       "Freq: 45T, Length: 95, dtype: int32"
      ]
     },
     "execution_count": 22,
     "metadata": {},
     "output_type": "execute_result"
    }
   ],
   "source": [
    "ts.asfreq('45min',method='pad')"
   ]
  },
  {
   "cell_type": "markdown",
   "metadata": {},
   "source": [
    "*  Downsample the series into 1 Day bins and sum the values of the timestamps falling into a bin."
   ]
  },
  {
   "cell_type": "code",
   "execution_count": 25,
   "metadata": {},
   "outputs": [
    {
     "data": {
      "text/plain": [
       "DatetimeIndexResampler [freq=<Day>, axis=0, closed=left, label=left, convention=start, base=0]"
      ]
     },
     "execution_count": 25,
     "metadata": {},
     "output_type": "execute_result"
    }
   ],
   "source": [
    "d = ts.resample('1D')\n",
    "d"
   ]
  },
  {
   "cell_type": "code",
   "execution_count": 26,
   "metadata": {},
   "outputs": [
    {
     "data": {
      "text/plain": [
       "2011-01-01     276\n",
       "2011-01-02     852\n",
       "2011-01-03    1428\n",
       "Freq: D, dtype: int32"
      ]
     },
     "execution_count": 26,
     "metadata": {},
     "output_type": "execute_result"
    }
   ],
   "source": [
    "d.sum()"
   ]
  },
  {
   "cell_type": "markdown",
   "metadata": {},
   "source": [
    "### Timestamps vs. Time Spans"
   ]
  },
  {
   "cell_type": "code",
   "execution_count": 27,
   "metadata": {},
   "outputs": [
    {
     "data": {
      "text/plain": [
       "Timestamp('2015-11-11 00:00:00')"
      ]
     },
     "execution_count": 27,
     "metadata": {},
     "output_type": "execute_result"
    }
   ],
   "source": [
    "from datetime import datetime\n",
    "pd.Timestamp(datetime(2015,11,11))"
   ]
  },
  {
   "cell_type": "code",
   "execution_count": 28,
   "metadata": {},
   "outputs": [
    {
     "data": {
      "text/plain": [
       "Timestamp('2015-11-11 00:00:00')"
      ]
     },
     "execution_count": 28,
     "metadata": {},
     "output_type": "execute_result"
    }
   ],
   "source": [
    "pd.Timestamp(2015,11,11)"
   ]
  },
  {
   "cell_type": "code",
   "execution_count": 29,
   "metadata": {},
   "outputs": [
    {
     "data": {
      "text/plain": [
       "Timestamp('2015-11-30 00:00:00')"
      ]
     },
     "execution_count": 29,
     "metadata": {},
     "output_type": "execute_result"
    }
   ],
   "source": [
    "pd.Timestamp('2015.11.30')"
   ]
  },
  {
   "cell_type": "markdown",
   "metadata": {},
   "source": [
    "### Period\n",
    "* many time, its more natural to associate things with span rather than time stamp"
   ]
  },
  {
   "cell_type": "code",
   "execution_count": 30,
   "metadata": {},
   "outputs": [
    {
     "data": {
      "text/plain": [
       "Period('2011-01', 'M')"
      ]
     },
     "execution_count": 30,
     "metadata": {},
     "output_type": "execute_result"
    }
   ],
   "source": [
    "pd.Period('2011-01')"
   ]
  },
  {
   "cell_type": "code",
   "execution_count": 31,
   "metadata": {},
   "outputs": [
    {
     "data": {
      "text/plain": [
       "Period('2012-05-01', 'D')"
      ]
     },
     "execution_count": 31,
     "metadata": {},
     "output_type": "execute_result"
    }
   ],
   "source": [
    "pd.Period('2012-05', freq='D')"
   ]
  },
  {
   "cell_type": "markdown",
   "metadata": {},
   "source": [
    "### Timestamp as index"
   ]
  },
  {
   "cell_type": "code",
   "execution_count": 32,
   "metadata": {},
   "outputs": [],
   "source": [
    "dates = [pd.Timestamp('2012-05-01'), pd.Timestamp('2012-05-02'), pd.Timestamp('2012-05-03')]"
   ]
  },
  {
   "cell_type": "code",
   "execution_count": 33,
   "metadata": {},
   "outputs": [
    {
     "data": {
      "text/plain": [
       "[Timestamp('2012-05-01 00:00:00'),\n",
       " Timestamp('2012-05-02 00:00:00'),\n",
       " Timestamp('2012-05-03 00:00:00')]"
      ]
     },
     "execution_count": 33,
     "metadata": {},
     "output_type": "execute_result"
    }
   ],
   "source": [
    "dates"
   ]
  },
  {
   "cell_type": "code",
   "execution_count": 35,
   "metadata": {},
   "outputs": [
    {
     "data": {
      "text/plain": [
       "2012-05-01    0.679588\n",
       "2012-05-02    0.751919\n",
       "2012-05-03   -0.910344\n",
       "dtype: float64"
      ]
     },
     "execution_count": 35,
     "metadata": {},
     "output_type": "execute_result"
    }
   ],
   "source": [
    "ts = pd.Series(np.random.randn(3), dates)\n",
    "ts"
   ]
  },
  {
   "cell_type": "code",
   "execution_count": 37,
   "metadata": {},
   "outputs": [
    {
     "data": {
      "text/plain": [
       "DatetimeIndex(['2012-05-01', '2012-05-02', '2012-05-03'], dtype='datetime64[ns]', freq=None)"
      ]
     },
     "execution_count": 37,
     "metadata": {},
     "output_type": "execute_result"
    }
   ],
   "source": [
    "ts.index"
   ]
  },
  {
   "cell_type": "markdown",
   "metadata": {},
   "source": [
    "### Period as index"
   ]
  },
  {
   "cell_type": "code",
   "execution_count": 43,
   "metadata": {},
   "outputs": [
    {
     "data": {
      "text/plain": [
       "[Period('2012-01', 'M'), Period('2012-02', 'M'), Period('2012-03', 'M')]"
      ]
     },
     "execution_count": 43,
     "metadata": {},
     "output_type": "execute_result"
    }
   ],
   "source": [
    "periods = [pd.Period('2012-01'), pd.Period('2012-02'), pd.Period('2012-03')]\n",
    "periods"
   ]
  },
  {
   "cell_type": "code",
   "execution_count": 47,
   "metadata": {},
   "outputs": [
    {
     "data": {
      "text/plain": [
       "2012-01   -0.197938\n",
       "2012-02    0.658357\n",
       "2012-03    1.046222\n",
       "Freq: M, dtype: float64"
      ]
     },
     "execution_count": 47,
     "metadata": {},
     "output_type": "execute_result"
    }
   ],
   "source": [
    "ts = pd.Series(np.random.randn(3), periods)\n",
    "ts"
   ]
  },
  {
   "cell_type": "markdown",
   "metadata": {},
   "source": [
    "### Converting to Timestamps"
   ]
  },
  {
   "cell_type": "markdown",
   "metadata": {},
   "source": [
    "#### Providing a Format Argument\n",
    "* In addition to the required datetime string, a format argument can be passed to ensure specific parsing. This could also potentially speed up the conversion considerably."
   ]
  },
  {
   "cell_type": "code",
   "execution_count": 48,
   "metadata": {},
   "outputs": [
    {
     "data": {
      "text/plain": [
       "0   2009-07-31\n",
       "1   1985-11-22\n",
       "2   2005-11-22\n",
       "dtype: datetime64[ns]"
      ]
     },
     "execution_count": 48,
     "metadata": {},
     "output_type": "execute_result"
    }
   ],
   "source": [
    "pd.to_datetime(pd.Series(['Jul 31, 2009', 'Nov 22 1985', '2005/11/22']))"
   ]
  },
  {
   "cell_type": "code",
   "execution_count": 49,
   "metadata": {},
   "outputs": [
    {
     "data": {
      "text/plain": [
       "Timestamp('2010-11-12 00:00:00')"
      ]
     },
     "execution_count": 49,
     "metadata": {},
     "output_type": "execute_result"
    }
   ],
   "source": [
    "pd.to_datetime('2010/11/12', format='%Y/%m/%d')"
   ]
  },
  {
   "cell_type": "code",
   "execution_count": 50,
   "metadata": {},
   "outputs": [
    {
     "data": {
      "text/plain": [
       "Timestamp('2010-11-12 00:00:00')"
      ]
     },
     "execution_count": 50,
     "metadata": {},
     "output_type": "execute_result"
    }
   ],
   "source": [
    "pd.to_datetime('12-11-2010 00:00', format='%d-%m-%Y %H:%M')"
   ]
  },
  {
   "cell_type": "markdown",
   "metadata": {},
   "source": [
    "## Generating Ranges of Timestamps"
   ]
  },
  {
   "cell_type": "markdown",
   "metadata": {},
   "source": [
    "#### Genrating date between ranges"
   ]
  },
  {
   "cell_type": "code",
   "execution_count": 51,
   "metadata": {
    "collapsed": true
   },
   "outputs": [],
   "source": [
    "start = datetime(2011,1,1)\n",
    "end = datetime(2012,1,1)"
   ]
  },
  {
   "cell_type": "code",
   "execution_count": 52,
   "metadata": {},
   "outputs": [
    {
     "data": {
      "text/plain": [
       "DatetimeIndex(['2011-01-31', '2011-02-28', '2011-03-31', '2011-04-30',\n",
       "               '2011-05-31', '2011-06-30', '2011-07-31', '2011-08-31',\n",
       "               '2011-09-30', '2011-10-31', '2011-11-30', '2011-12-31'],\n",
       "              dtype='datetime64[ns]', freq='M')"
      ]
     },
     "execution_count": 52,
     "metadata": {},
     "output_type": "execute_result"
    }
   ],
   "source": [
    "pd.date_range(start,end, freq='M')"
   ]
  },
  {
   "cell_type": "markdown",
   "metadata": {},
   "source": [
    "#### Generating date of periods"
   ]
  },
  {
   "cell_type": "code",
   "execution_count": 53,
   "metadata": {},
   "outputs": [
    {
     "data": {
      "text/plain": [
       "DatetimeIndex(['2011-01-31', '2011-02-28', '2011-03-31', '2011-04-30',\n",
       "               '2011-05-31', '2011-06-30', '2011-07-31', '2011-08-31',\n",
       "               '2011-09-30', '2011-10-31',\n",
       "               ...\n",
       "               '2093-07-31', '2093-08-31', '2093-09-30', '2093-10-31',\n",
       "               '2093-11-30', '2093-12-31', '2094-01-31', '2094-02-28',\n",
       "               '2094-03-31', '2094-04-30'],\n",
       "              dtype='datetime64[ns]', length=1000, freq='M')"
      ]
     },
     "execution_count": 53,
     "metadata": {},
     "output_type": "execute_result"
    }
   ],
   "source": [
    "pd.date_range(start, periods=1000, freq='M')"
   ]
  },
  {
   "cell_type": "code",
   "execution_count": 54,
   "metadata": {
    "collapsed": true
   },
   "outputs": [],
   "source": [
    "s=datetime(2018,1,1)\n",
    "e=datetime(2018,12,30)"
   ]
  },
  {
   "cell_type": "code",
   "execution_count": 57,
   "metadata": {},
   "outputs": [
    {
     "data": {
      "text/plain": [
       "DatetimeIndex(['2018-01-01', '2018-01-02', '2018-01-03', '2018-01-04',\n",
       "               '2018-01-05', '2018-01-08', '2018-01-09', '2018-01-10',\n",
       "               '2018-01-11', '2018-01-12',\n",
       "               ...\n",
       "               '2018-12-17', '2018-12-18', '2018-12-19', '2018-12-20',\n",
       "               '2018-12-21', '2018-12-24', '2018-12-25', '2018-12-26',\n",
       "               '2018-12-27', '2018-12-28'],\n",
       "              dtype='datetime64[ns]', length=260, freq='B')"
      ]
     },
     "execution_count": 57,
     "metadata": {},
     "output_type": "execute_result"
    }
   ],
   "source": [
    "pd.bdate_range(s,e)"
   ]
  },
  {
   "cell_type": "markdown",
   "metadata": {},
   "source": [
    "#### Custom Frequency Dates"
   ]
  },
  {
   "cell_type": "code",
   "execution_count": 58,
   "metadata": {
    "collapsed": true
   },
   "outputs": [],
   "source": [
    "weekmask = 'Mon Wed Fri'"
   ]
  },
  {
   "cell_type": "code",
   "execution_count": 63,
   "metadata": {
    "collapsed": true
   },
   "outputs": [],
   "source": [
    "holidays = [datetime(2018, 1, 5), datetime(2018, 3, 14)]"
   ]
  },
  {
   "cell_type": "code",
   "execution_count": 65,
   "metadata": {},
   "outputs": [
    {
     "data": {
      "text/plain": [
       "DatetimeIndex(['2018-01-01', '2018-01-02', '2018-01-03', '2018-01-04',\n",
       "               '2018-01-05', '2018-01-08', '2018-01-09', '2018-01-10',\n",
       "               '2018-01-11', '2018-01-12',\n",
       "               ...\n",
       "               '2018-12-17', '2018-12-18', '2018-12-19', '2018-12-20',\n",
       "               '2018-12-21', '2018-12-24', '2018-12-25', '2018-12-26',\n",
       "               '2018-12-27', '2018-12-28'],\n",
       "              dtype='datetime64[ns]', length=260, freq='B')"
      ]
     },
     "execution_count": 65,
     "metadata": {},
     "output_type": "execute_result"
    }
   ],
   "source": [
    "pd.bdate_range(start=s,end=e,weekmask=weekmask,holidays=holidays)"
   ]
  },
  {
   "cell_type": "code",
   "execution_count": 66,
   "metadata": {
    "collapsed": true
   },
   "outputs": [],
   "source": [
    "from pandas.tseries.holiday import USFederalHolidayCalendar"
   ]
  },
  {
   "cell_type": "code",
   "execution_count": 67,
   "metadata": {
    "collapsed": true
   },
   "outputs": [],
   "source": [
    "s=USFederalHolidayCalendar()"
   ]
  },
  {
   "cell_type": "code",
   "execution_count": 69,
   "metadata": {},
   "outputs": [
    {
     "data": {
      "text/plain": [
       "DatetimeIndex(['1970-01-01', '1970-02-16', '1970-05-25', '1970-07-03',\n",
       "               '1970-09-07', '1970-10-12', '1970-11-11', '1970-11-26',\n",
       "               '1970-12-25', '1971-01-01',\n",
       "               ...\n",
       "               '2030-01-01', '2030-01-21', '2030-02-18', '2030-05-27',\n",
       "               '2030-07-04', '2030-09-02', '2030-10-14', '2030-11-11',\n",
       "               '2030-11-28', '2030-12-25'],\n",
       "              dtype='datetime64[ns]', length=594, freq=None)"
      ]
     },
     "execution_count": 69,
     "metadata": {},
     "output_type": "execute_result"
    }
   ],
   "source": [
    "s.holidays()"
   ]
  },
  {
   "cell_type": "markdown",
   "metadata": {},
   "source": [
    "### Aggregation"
   ]
  },
  {
   "cell_type": "code",
   "execution_count": 80,
   "metadata": {},
   "outputs": [],
   "source": [
    "df=pd.DataFrame(np.random.randn(1000,3),columns=['A','B','C'],index=pd.date_range('1/1/2012',periods=1000,freq='h'))"
   ]
  },
  {
   "cell_type": "code",
   "execution_count": 81,
   "metadata": {},
   "outputs": [
    {
     "data": {
      "text/html": [
       "<div>\n",
       "<style>\n",
       "    .dataframe thead tr:only-child th {\n",
       "        text-align: right;\n",
       "    }\n",
       "\n",
       "    .dataframe thead th {\n",
       "        text-align: left;\n",
       "    }\n",
       "\n",
       "    .dataframe tbody tr th {\n",
       "        vertical-align: top;\n",
       "    }\n",
       "</style>\n",
       "<table border=\"1\" class=\"dataframe\">\n",
       "  <thead>\n",
       "    <tr style=\"text-align: right;\">\n",
       "      <th></th>\n",
       "      <th>A</th>\n",
       "      <th>B</th>\n",
       "      <th>C</th>\n",
       "    </tr>\n",
       "  </thead>\n",
       "  <tbody>\n",
       "    <tr>\n",
       "      <th>2012-01-01 00:00:00</th>\n",
       "      <td>-0.326725</td>\n",
       "      <td>-0.415778</td>\n",
       "      <td>-0.186630</td>\n",
       "    </tr>\n",
       "    <tr>\n",
       "      <th>2012-01-01 01:00:00</th>\n",
       "      <td>-0.295156</td>\n",
       "      <td>-0.094985</td>\n",
       "      <td>1.223674</td>\n",
       "    </tr>\n",
       "    <tr>\n",
       "      <th>2012-01-01 02:00:00</th>\n",
       "      <td>-0.886081</td>\n",
       "      <td>0.468568</td>\n",
       "      <td>0.341677</td>\n",
       "    </tr>\n",
       "    <tr>\n",
       "      <th>2012-01-01 03:00:00</th>\n",
       "      <td>0.779058</td>\n",
       "      <td>-0.580600</td>\n",
       "      <td>-1.550890</td>\n",
       "    </tr>\n",
       "    <tr>\n",
       "      <th>2012-01-01 04:00:00</th>\n",
       "      <td>-0.069026</td>\n",
       "      <td>-0.968917</td>\n",
       "      <td>-3.178399</td>\n",
       "    </tr>\n",
       "  </tbody>\n",
       "</table>\n",
       "</div>"
      ],
      "text/plain": [
       "                            A         B         C\n",
       "2012-01-01 00:00:00 -0.326725 -0.415778 -0.186630\n",
       "2012-01-01 01:00:00 -0.295156 -0.094985  1.223674\n",
       "2012-01-01 02:00:00 -0.886081  0.468568  0.341677\n",
       "2012-01-01 03:00:00  0.779058 -0.580600 -1.550890\n",
       "2012-01-01 04:00:00 -0.069026 -0.968917 -3.178399"
      ]
     },
     "execution_count": 81,
     "metadata": {},
     "output_type": "execute_result"
    }
   ],
   "source": [
    "df.head()"
   ]
  },
  {
   "cell_type": "code",
   "execution_count": 83,
   "metadata": {},
   "outputs": [
    {
     "data": {
      "text/html": [
       "<div>\n",
       "<style>\n",
       "    .dataframe thead tr:only-child th {\n",
       "        text-align: right;\n",
       "    }\n",
       "\n",
       "    .dataframe thead th {\n",
       "        text-align: left;\n",
       "    }\n",
       "\n",
       "    .dataframe tbody tr th {\n",
       "        vertical-align: top;\n",
       "    }\n",
       "</style>\n",
       "<table border=\"1\" class=\"dataframe\">\n",
       "  <thead>\n",
       "    <tr style=\"text-align: right;\">\n",
       "      <th></th>\n",
       "      <th>A</th>\n",
       "      <th>B</th>\n",
       "      <th>C</th>\n",
       "    </tr>\n",
       "  </thead>\n",
       "  <tbody>\n",
       "    <tr>\n",
       "      <th>2012-01-01</th>\n",
       "      <td>0.015487</td>\n",
       "      <td>0.063134</td>\n",
       "      <td>-0.031526</td>\n",
       "    </tr>\n",
       "    <tr>\n",
       "      <th>2012-01-04</th>\n",
       "      <td>-0.035064</td>\n",
       "      <td>-0.084913</td>\n",
       "      <td>0.062766</td>\n",
       "    </tr>\n",
       "    <tr>\n",
       "      <th>2012-01-07</th>\n",
       "      <td>0.002723</td>\n",
       "      <td>-0.050548</td>\n",
       "      <td>-0.164737</td>\n",
       "    </tr>\n",
       "    <tr>\n",
       "      <th>2012-01-10</th>\n",
       "      <td>0.046470</td>\n",
       "      <td>-0.081576</td>\n",
       "      <td>0.209620</td>\n",
       "    </tr>\n",
       "    <tr>\n",
       "      <th>2012-01-13</th>\n",
       "      <td>-0.189809</td>\n",
       "      <td>0.024394</td>\n",
       "      <td>-0.124559</td>\n",
       "    </tr>\n",
       "    <tr>\n",
       "      <th>2012-01-16</th>\n",
       "      <td>-0.002961</td>\n",
       "      <td>0.153965</td>\n",
       "      <td>-0.052396</td>\n",
       "    </tr>\n",
       "    <tr>\n",
       "      <th>2012-01-19</th>\n",
       "      <td>0.026364</td>\n",
       "      <td>0.062820</td>\n",
       "      <td>0.133791</td>\n",
       "    </tr>\n",
       "    <tr>\n",
       "      <th>2012-01-22</th>\n",
       "      <td>0.022151</td>\n",
       "      <td>0.013832</td>\n",
       "      <td>0.104441</td>\n",
       "    </tr>\n",
       "    <tr>\n",
       "      <th>2012-01-25</th>\n",
       "      <td>-0.031745</td>\n",
       "      <td>-0.182263</td>\n",
       "      <td>-0.054309</td>\n",
       "    </tr>\n",
       "    <tr>\n",
       "      <th>2012-01-28</th>\n",
       "      <td>-0.006089</td>\n",
       "      <td>0.185475</td>\n",
       "      <td>-0.174273</td>\n",
       "    </tr>\n",
       "    <tr>\n",
       "      <th>2012-01-31</th>\n",
       "      <td>-0.009765</td>\n",
       "      <td>0.120906</td>\n",
       "      <td>0.018799</td>\n",
       "    </tr>\n",
       "    <tr>\n",
       "      <th>2012-02-03</th>\n",
       "      <td>0.051285</td>\n",
       "      <td>0.017899</td>\n",
       "      <td>0.072404</td>\n",
       "    </tr>\n",
       "    <tr>\n",
       "      <th>2012-02-06</th>\n",
       "      <td>0.119768</td>\n",
       "      <td>-0.005214</td>\n",
       "      <td>0.087841</td>\n",
       "    </tr>\n",
       "    <tr>\n",
       "      <th>2012-02-09</th>\n",
       "      <td>-0.010726</td>\n",
       "      <td>-0.021413</td>\n",
       "      <td>0.090573</td>\n",
       "    </tr>\n",
       "  </tbody>\n",
       "</table>\n",
       "</div>"
      ],
      "text/plain": [
       "                   A         B         C\n",
       "2012-01-01  0.015487  0.063134 -0.031526\n",
       "2012-01-04 -0.035064 -0.084913  0.062766\n",
       "2012-01-07  0.002723 -0.050548 -0.164737\n",
       "2012-01-10  0.046470 -0.081576  0.209620\n",
       "2012-01-13 -0.189809  0.024394 -0.124559\n",
       "2012-01-16 -0.002961  0.153965 -0.052396\n",
       "2012-01-19  0.026364  0.062820  0.133791\n",
       "2012-01-22  0.022151  0.013832  0.104441\n",
       "2012-01-25 -0.031745 -0.182263 -0.054309\n",
       "2012-01-28 -0.006089  0.185475 -0.174273\n",
       "2012-01-31 -0.009765  0.120906  0.018799\n",
       "2012-02-03  0.051285  0.017899  0.072404\n",
       "2012-02-06  0.119768 -0.005214  0.087841\n",
       "2012-02-09 -0.010726 -0.021413  0.090573"
      ]
     },
     "execution_count": 83,
     "metadata": {},
     "output_type": "execute_result"
    }
   ],
   "source": [
    "df.resample('3D').mean()"
   ]
  },
  {
   "cell_type": "code",
   "execution_count": 95,
   "metadata": {},
   "outputs": [],
   "source": [
    "r=df.resample('3D')"
   ]
  },
  {
   "cell_type": "code",
   "execution_count": 96,
   "metadata": {},
   "outputs": [
    {
     "data": {
      "text/html": [
       "<div>\n",
       "<style>\n",
       "    .dataframe thead tr:only-child th {\n",
       "        text-align: right;\n",
       "    }\n",
       "\n",
       "    .dataframe thead th {\n",
       "        text-align: left;\n",
       "    }\n",
       "\n",
       "    .dataframe tbody tr th {\n",
       "        vertical-align: top;\n",
       "    }\n",
       "</style>\n",
       "<table border=\"1\" class=\"dataframe\">\n",
       "  <thead>\n",
       "    <tr>\n",
       "      <th></th>\n",
       "      <th colspan=\"2\" halign=\"left\">A</th>\n",
       "      <th colspan=\"2\" halign=\"left\">B</th>\n",
       "      <th colspan=\"2\" halign=\"left\">C</th>\n",
       "    </tr>\n",
       "    <tr>\n",
       "      <th></th>\n",
       "      <th>sum</th>\n",
       "      <th>mean</th>\n",
       "      <th>sum</th>\n",
       "      <th>mean</th>\n",
       "      <th>sum</th>\n",
       "      <th>mean</th>\n",
       "    </tr>\n",
       "  </thead>\n",
       "  <tbody>\n",
       "    <tr>\n",
       "      <th>2012-01-01</th>\n",
       "      <td>1.115037</td>\n",
       "      <td>0.015487</td>\n",
       "      <td>4.545678</td>\n",
       "      <td>0.063134</td>\n",
       "      <td>-2.269864</td>\n",
       "      <td>-0.031526</td>\n",
       "    </tr>\n",
       "    <tr>\n",
       "      <th>2012-01-04</th>\n",
       "      <td>-2.524636</td>\n",
       "      <td>-0.035064</td>\n",
       "      <td>-6.113717</td>\n",
       "      <td>-0.084913</td>\n",
       "      <td>4.519150</td>\n",
       "      <td>0.062766</td>\n",
       "    </tr>\n",
       "    <tr>\n",
       "      <th>2012-01-07</th>\n",
       "      <td>0.196064</td>\n",
       "      <td>0.002723</td>\n",
       "      <td>-3.639486</td>\n",
       "      <td>-0.050548</td>\n",
       "      <td>-11.861090</td>\n",
       "      <td>-0.164737</td>\n",
       "    </tr>\n",
       "    <tr>\n",
       "      <th>2012-01-10</th>\n",
       "      <td>3.345868</td>\n",
       "      <td>0.046470</td>\n",
       "      <td>-5.873474</td>\n",
       "      <td>-0.081576</td>\n",
       "      <td>15.092643</td>\n",
       "      <td>0.209620</td>\n",
       "    </tr>\n",
       "    <tr>\n",
       "      <th>2012-01-13</th>\n",
       "      <td>-13.666271</td>\n",
       "      <td>-0.189809</td>\n",
       "      <td>1.756354</td>\n",
       "      <td>0.024394</td>\n",
       "      <td>-8.968249</td>\n",
       "      <td>-0.124559</td>\n",
       "    </tr>\n",
       "    <tr>\n",
       "      <th>2012-01-16</th>\n",
       "      <td>-0.213214</td>\n",
       "      <td>-0.002961</td>\n",
       "      <td>11.085483</td>\n",
       "      <td>0.153965</td>\n",
       "      <td>-3.772497</td>\n",
       "      <td>-0.052396</td>\n",
       "    </tr>\n",
       "    <tr>\n",
       "      <th>2012-01-19</th>\n",
       "      <td>1.898177</td>\n",
       "      <td>0.026364</td>\n",
       "      <td>4.523011</td>\n",
       "      <td>0.062820</td>\n",
       "      <td>9.632935</td>\n",
       "      <td>0.133791</td>\n",
       "    </tr>\n",
       "    <tr>\n",
       "      <th>2012-01-22</th>\n",
       "      <td>1.594840</td>\n",
       "      <td>0.022151</td>\n",
       "      <td>0.995875</td>\n",
       "      <td>0.013832</td>\n",
       "      <td>7.519746</td>\n",
       "      <td>0.104441</td>\n",
       "    </tr>\n",
       "    <tr>\n",
       "      <th>2012-01-25</th>\n",
       "      <td>-2.285675</td>\n",
       "      <td>-0.031745</td>\n",
       "      <td>-13.122910</td>\n",
       "      <td>-0.182263</td>\n",
       "      <td>-3.910255</td>\n",
       "      <td>-0.054309</td>\n",
       "    </tr>\n",
       "    <tr>\n",
       "      <th>2012-01-28</th>\n",
       "      <td>-0.438403</td>\n",
       "      <td>-0.006089</td>\n",
       "      <td>13.354200</td>\n",
       "      <td>0.185475</td>\n",
       "      <td>-12.547650</td>\n",
       "      <td>-0.174273</td>\n",
       "    </tr>\n",
       "    <tr>\n",
       "      <th>2012-01-31</th>\n",
       "      <td>-0.703051</td>\n",
       "      <td>-0.009765</td>\n",
       "      <td>8.705217</td>\n",
       "      <td>0.120906</td>\n",
       "      <td>1.353536</td>\n",
       "      <td>0.018799</td>\n",
       "    </tr>\n",
       "    <tr>\n",
       "      <th>2012-02-03</th>\n",
       "      <td>3.692549</td>\n",
       "      <td>0.051285</td>\n",
       "      <td>1.288714</td>\n",
       "      <td>0.017899</td>\n",
       "      <td>5.213110</td>\n",
       "      <td>0.072404</td>\n",
       "    </tr>\n",
       "    <tr>\n",
       "      <th>2012-02-06</th>\n",
       "      <td>8.623319</td>\n",
       "      <td>0.119768</td>\n",
       "      <td>-0.375396</td>\n",
       "      <td>-0.005214</td>\n",
       "      <td>6.324575</td>\n",
       "      <td>0.087841</td>\n",
       "    </tr>\n",
       "    <tr>\n",
       "      <th>2012-02-09</th>\n",
       "      <td>-0.686453</td>\n",
       "      <td>-0.010726</td>\n",
       "      <td>-1.370416</td>\n",
       "      <td>-0.021413</td>\n",
       "      <td>5.796676</td>\n",
       "      <td>0.090573</td>\n",
       "    </tr>\n",
       "  </tbody>\n",
       "</table>\n",
       "</div>"
      ],
      "text/plain": [
       "                    A                    B                    C          \n",
       "                  sum      mean        sum      mean        sum      mean\n",
       "2012-01-01   1.115037  0.015487   4.545678  0.063134  -2.269864 -0.031526\n",
       "2012-01-04  -2.524636 -0.035064  -6.113717 -0.084913   4.519150  0.062766\n",
       "2012-01-07   0.196064  0.002723  -3.639486 -0.050548 -11.861090 -0.164737\n",
       "2012-01-10   3.345868  0.046470  -5.873474 -0.081576  15.092643  0.209620\n",
       "2012-01-13 -13.666271 -0.189809   1.756354  0.024394  -8.968249 -0.124559\n",
       "2012-01-16  -0.213214 -0.002961  11.085483  0.153965  -3.772497 -0.052396\n",
       "2012-01-19   1.898177  0.026364   4.523011  0.062820   9.632935  0.133791\n",
       "2012-01-22   1.594840  0.022151   0.995875  0.013832   7.519746  0.104441\n",
       "2012-01-25  -2.285675 -0.031745 -13.122910 -0.182263  -3.910255 -0.054309\n",
       "2012-01-28  -0.438403 -0.006089  13.354200  0.185475 -12.547650 -0.174273\n",
       "2012-01-31  -0.703051 -0.009765   8.705217  0.120906   1.353536  0.018799\n",
       "2012-02-03   3.692549  0.051285   1.288714  0.017899   5.213110  0.072404\n",
       "2012-02-06   8.623319  0.119768  -0.375396 -0.005214   6.324575  0.087841\n",
       "2012-02-09  -0.686453 -0.010726  -1.370416 -0.021413   5.796676  0.090573"
      ]
     },
     "execution_count": 96,
     "metadata": {},
     "output_type": "execute_result"
    }
   ],
   "source": [
    "r.agg([np.sum,np.mean])"
   ]
  },
  {
   "cell_type": "code",
   "execution_count": null,
   "metadata": {
    "collapsed": true
   },
   "outputs": [],
   "source": []
  }
 ],
 "metadata": {
  "kernelspec": {
   "display_name": "Python 3",
   "language": "python",
   "name": "python3"
  },
  "language_info": {
   "codemirror_mode": {
    "name": "ipython",
    "version": 3
   },
   "file_extension": ".py",
   "mimetype": "text/x-python",
   "name": "python",
   "nbconvert_exporter": "python",
   "pygments_lexer": "ipython3",
   "version": "3.6.3"
  }
 },
 "nbformat": 4,
 "nbformat_minor": 2
}
