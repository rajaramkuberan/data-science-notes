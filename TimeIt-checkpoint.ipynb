{
 "cells": [
  {
   "cell_type": "code",
   "execution_count": 2,
   "metadata": {},
   "outputs": [],
   "source": [
    "import numpy as np"
   ]
  },
  {
   "cell_type": "code",
   "execution_count": 3,
   "metadata": {},
   "outputs": [],
   "source": [
    "a = np.arange(10000)\n",
    "b = np.arange(10000)"
   ]
  },
  {
   "cell_type": "code",
   "execution_count": 7,
   "metadata": {},
   "outputs": [
    {
     "name": "stdout",
     "output_type": "stream",
     "text": [
      "9.32 µs ± 76.2 ns per loop (mean ± std. dev. of 7 runs, 100000 loops each)\n"
     ]
    }
   ],
   "source": [
    "%timeit a + b  #computation time to calculate a+b"
   ]
  },
  {
   "cell_type": "code",
   "execution_count": 8,
   "metadata": {},
   "outputs": [
    {
     "name": "stdout",
     "output_type": "stream",
     "text": [
      "41.2 µs ± 4.15 µs per loop (mean ± std. dev. of 7 runs, 10000 loops each)\n"
     ]
    }
   ],
   "source": [
    "%timeit np.cumsum(a)"
   ]
  },
  {
   "cell_type": "code",
   "execution_count": 9,
   "metadata": {},
   "outputs": [],
   "source": [
    "l = range(10000)"
   ]
  },
  {
   "cell_type": "code",
   "execution_count": 10,
   "metadata": {},
   "outputs": [
    {
     "name": "stdout",
     "output_type": "stream",
     "text": [
      "237 µs ± 4.03 µs per loop (mean ± std. dev. of 7 runs, 1000 loops each)\n"
     ]
    }
   ],
   "source": [
    "%timeit sum(l)"
   ]
  },
  {
   "cell_type": "code",
   "execution_count": 11,
   "metadata": {},
   "outputs": [
    {
     "name": "stdout",
     "output_type": "stream",
     "text": [
      "36.2 µs ± 1.84 µs per loop (mean ± std. dev. of 7 runs, 10000 loops each)\n"
     ]
    }
   ],
   "source": [
    "%timeit np.cumsum(a)"
   ]
  },
  {
   "cell_type": "code",
   "execution_count": 12,
   "metadata": {},
   "outputs": [],
   "source": [
    "data = np.random.randint(1,10,size=(10,10))"
   ]
  },
  {
   "cell_type": "code",
   "execution_count": 13,
   "metadata": {},
   "outputs": [
    {
     "data": {
      "text/plain": [
       "array([[1, 7, 8, 8, 2, 9, 3, 3, 4, 7],\n",
       "       [4, 5, 1, 2, 2, 2, 1, 7, 2, 8],\n",
       "       [5, 8, 5, 1, 3, 4, 9, 7, 6, 8],\n",
       "       [6, 5, 7, 4, 6, 4, 5, 7, 9, 9],\n",
       "       [7, 5, 9, 5, 8, 9, 6, 3, 8, 9],\n",
       "       [6, 7, 7, 2, 1, 6, 2, 7, 9, 2],\n",
       "       [2, 5, 9, 3, 6, 1, 1, 7, 5, 8],\n",
       "       [1, 5, 7, 9, 1, 2, 2, 6, 2, 4],\n",
       "       [9, 9, 5, 7, 6, 4, 9, 5, 6, 2],\n",
       "       [9, 1, 1, 3, 4, 5, 6, 3, 4, 6]])"
      ]
     },
     "execution_count": 13,
     "metadata": {},
     "output_type": "execute_result"
    }
   ],
   "source": [
    "data"
   ]
  },
  {
   "cell_type": "code",
   "execution_count": 17,
   "metadata": {},
   "outputs": [
    {
     "data": {
      "text/plain": [
       "array([50, 57, 59, 44, 39, 46, 44, 55, 55, 63])"
      ]
     },
     "execution_count": 17,
     "metadata": {},
     "output_type": "execute_result"
    }
   ],
   "source": [
    "np.sum(data,axis=0)"
   ]
  },
  {
   "cell_type": "code",
   "execution_count": 16,
   "metadata": {},
   "outputs": [
    {
     "data": {
      "text/plain": [
       "array([5.2, 3.4, 5.6, 6.2, 6.9, 4.9, 4.7, 3.9, 6.2, 4.2])"
      ]
     },
     "execution_count": 16,
     "metadata": {},
     "output_type": "execute_result"
    }
   ],
   "source": [
    "np.mean(data,axis=1)"
   ]
  },
  {
   "cell_type": "code",
   "execution_count": 18,
   "metadata": {},
   "outputs": [
    {
     "data": {
      "text/plain": [
       "array([2.74954542, 2.37486842, 2.37486842, 1.72046505, 1.97230829,\n",
       "       2.7       , 2.72213152, 2.62488095, 2.22710575, 2.31516738])"
      ]
     },
     "execution_count": 18,
     "metadata": {},
     "output_type": "execute_result"
    }
   ],
   "source": [
    "np.std(data,axis=1)"
   ]
  },
  {
   "cell_type": "code",
   "execution_count": 19,
   "metadata": {},
   "outputs": [
    {
     "data": {
      "text/plain": [
       "array([[ 0.54030231,  0.75390225, -0.14550003, -0.14550003, -0.41614684,\n",
       "        -0.91113026, -0.9899925 , -0.9899925 , -0.65364362,  0.75390225],\n",
       "       [-0.65364362,  0.28366219,  0.54030231, -0.41614684, -0.41614684,\n",
       "        -0.41614684,  0.54030231,  0.75390225, -0.41614684, -0.14550003],\n",
       "       [ 0.28366219, -0.14550003,  0.28366219,  0.54030231, -0.9899925 ,\n",
       "        -0.65364362, -0.91113026,  0.75390225,  0.96017029, -0.14550003],\n",
       "       [ 0.96017029,  0.28366219,  0.75390225, -0.65364362,  0.96017029,\n",
       "        -0.65364362,  0.28366219,  0.75390225, -0.91113026, -0.91113026],\n",
       "       [ 0.75390225,  0.28366219, -0.91113026,  0.28366219, -0.14550003,\n",
       "        -0.91113026,  0.96017029, -0.9899925 , -0.14550003, -0.91113026],\n",
       "       [ 0.96017029,  0.75390225,  0.75390225, -0.41614684,  0.54030231,\n",
       "         0.96017029, -0.41614684,  0.75390225, -0.91113026, -0.41614684],\n",
       "       [-0.41614684,  0.28366219, -0.91113026, -0.9899925 ,  0.96017029,\n",
       "         0.54030231,  0.54030231,  0.75390225,  0.28366219, -0.14550003],\n",
       "       [ 0.54030231,  0.28366219,  0.75390225, -0.91113026,  0.54030231,\n",
       "        -0.41614684, -0.41614684,  0.96017029, -0.41614684, -0.65364362],\n",
       "       [-0.91113026, -0.91113026,  0.28366219,  0.75390225,  0.96017029,\n",
       "        -0.65364362, -0.91113026,  0.28366219,  0.96017029, -0.41614684],\n",
       "       [-0.91113026,  0.54030231,  0.54030231, -0.9899925 , -0.65364362,\n",
       "         0.28366219,  0.96017029, -0.9899925 , -0.65364362,  0.96017029]])"
      ]
     },
     "execution_count": 19,
     "metadata": {},
     "output_type": "execute_result"
    }
   ],
   "source": [
    "np.cos(data)"
   ]
  },
  {
   "cell_type": "code",
   "execution_count": 21,
   "metadata": {},
   "outputs": [
    {
     "data": {
      "text/plain": [
       "array([9, 8, 9, 9, 9, 9, 9, 9, 9, 9])"
      ]
     },
     "execution_count": 21,
     "metadata": {},
     "output_type": "execute_result"
    }
   ],
   "source": [
    "np.max(data,axis=1)"
   ]
  },
  {
   "cell_type": "code",
   "execution_count": 22,
   "metadata": {},
   "outputs": [
    {
     "data": {
      "text/plain": [
       "array([5, 9, 6, 8, 2, 8, 2, 3, 0, 0], dtype=int64)"
      ]
     },
     "execution_count": 22,
     "metadata": {},
     "output_type": "execute_result"
    }
   ],
   "source": [
    "np.argmax(data,axis=1)"
   ]
  },
  {
   "cell_type": "code",
   "execution_count": null,
   "metadata": {},
   "outputs": [],
   "source": [
    "np.argmax(data,axis=1)"
   ]
  }
 ],
 "metadata": {
  "kernelspec": {
   "display_name": "Python 3",
   "language": "python",
   "name": "python3"
  },
  "language_info": {
   "codemirror_mode": {
    "name": "ipython",
    "version": 3
   },
   "file_extension": ".py",
   "mimetype": "text/x-python",
   "name": "python",
   "nbconvert_exporter": "python",
   "pygments_lexer": "ipython3",
   "version": "3.6.4"
  }
 },
 "nbformat": 4,
 "nbformat_minor": 2
}
